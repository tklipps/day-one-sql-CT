{
 "cells": [
  {
   "cell_type": "markdown",
   "id": "8898af05",
   "metadata": {},
   "source": [
    "# Length of Last word\n",
    "# Create a function that given a string as a parameter of upper/lower case letters\n",
    "# and empty space characters (\" \"), return the length of the last word. \n",
    "# Meaning, the word that appears far most to the right if we loop through the words.\n",
    "\n",
    "# Example Input: \n",
    "s1 = \"Oh My God Becky, Look at her butt\"\n",
    "# Example Output: 4\n",
    "\n",
    "# Example Input:\n",
    "s2 = \"One of those rap guys' girlfriends\"\n",
    "# Example Output: 11\n",
    "\n",
    "# Example Input:\n",
    "s3 = \"You other brothers can't deny\"\n",
    "# Example Output: 4"
   ]
  },
  {
   "cell_type": "code",
   "execution_count": null,
   "id": "723d6b3d",
   "metadata": {},
   "outputs": [],
   "source": [
    "def last_word(s):\n",
    "    word_list = s.split()"
   ]
  }
 ],
 "metadata": {
  "kernelspec": {
   "display_name": "Python 3",
   "language": "python",
   "name": "python3"
  },
  "language_info": {
   "codemirror_mode": {
    "name": "ipython",
    "version": 3
   },
   "file_extension": ".py",
   "mimetype": "text/x-python",
   "name": "python",
   "nbconvert_exporter": "python",
   "pygments_lexer": "ipython3",
   "version": "3.8.8"
  }
 },
 "nbformat": 4,
 "nbformat_minor": 5
}
